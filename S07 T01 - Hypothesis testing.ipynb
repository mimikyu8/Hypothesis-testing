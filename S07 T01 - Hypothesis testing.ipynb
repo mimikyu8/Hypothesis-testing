{
 "cells": [
  {
   "cell_type": "markdown",
   "metadata": {},
   "source": [
    "# Exercici 1"
   ]
  },
  {
   "cell_type": "markdown",
   "metadata": {},
   "source": [
    "Agafa un conjunt de dades d'un tema que t'agradi i selecciona un atribut del conjunt de dades. Calcula el p-valor i digues si rebutja la hipòtesi nul·la agafant un alfa de 5%."
   ]
  },
  {
   "cell_type": "code",
   "execution_count": 12,
   "metadata": {},
   "outputs": [],
   "source": [
    "import pandas as pd \n",
    "import numpy as np\n",
    "import matplotlib.pyplot as plt\n",
    "import seaborn as sns\n",
    "import scipy.stats "
   ]
  },
  {
   "cell_type": "code",
   "execution_count": 13,
   "metadata": {},
   "outputs": [],
   "source": [
    "df = pd.read_csv(\"heart_2020.csv\")\n",
    "#source: https://www.kaggle.com/datasets/kamilpytlak/personal-key-indicators-of-heart-disease"
   ]
  },
  {
   "cell_type": "code",
   "execution_count": 14,
   "metadata": {},
   "outputs": [
    {
     "data": {
      "text/html": [
       "<div>\n",
       "<style scoped>\n",
       "    .dataframe tbody tr th:only-of-type {\n",
       "        vertical-align: middle;\n",
       "    }\n",
       "\n",
       "    .dataframe tbody tr th {\n",
       "        vertical-align: top;\n",
       "    }\n",
       "\n",
       "    .dataframe thead th {\n",
       "        text-align: right;\n",
       "    }\n",
       "</style>\n",
       "<table border=\"1\" class=\"dataframe\">\n",
       "  <thead>\n",
       "    <tr style=\"text-align: right;\">\n",
       "      <th></th>\n",
       "      <th>Unnamed: 0</th>\n",
       "      <th>HeartDisease</th>\n",
       "      <th>BMI</th>\n",
       "      <th>Smoking</th>\n",
       "      <th>AlcoholDrinking</th>\n",
       "      <th>Stroke</th>\n",
       "      <th>PhysicalHealth</th>\n",
       "      <th>MentalHealth</th>\n",
       "      <th>DiffWalking</th>\n",
       "      <th>Sex</th>\n",
       "      <th>AgeCategory</th>\n",
       "      <th>Race</th>\n",
       "      <th>Diabetic</th>\n",
       "      <th>PhysicalActivity</th>\n",
       "      <th>GenHealth</th>\n",
       "      <th>SleepTime</th>\n",
       "      <th>Asthma</th>\n",
       "      <th>KidneyDisease</th>\n",
       "      <th>SkinCancer</th>\n",
       "    </tr>\n",
       "  </thead>\n",
       "  <tbody>\n",
       "    <tr>\n",
       "      <th>0</th>\n",
       "      <td>0</td>\n",
       "      <td>0</td>\n",
       "      <td>16.60</td>\n",
       "      <td>1</td>\n",
       "      <td>0</td>\n",
       "      <td>0</td>\n",
       "      <td>3.0</td>\n",
       "      <td>30.0</td>\n",
       "      <td>0</td>\n",
       "      <td>Female</td>\n",
       "      <td>55-59</td>\n",
       "      <td>White</td>\n",
       "      <td>1</td>\n",
       "      <td>1</td>\n",
       "      <td>Very good</td>\n",
       "      <td>5.0</td>\n",
       "      <td>1</td>\n",
       "      <td>0</td>\n",
       "      <td>1</td>\n",
       "    </tr>\n",
       "    <tr>\n",
       "      <th>1</th>\n",
       "      <td>1</td>\n",
       "      <td>0</td>\n",
       "      <td>20.34</td>\n",
       "      <td>0</td>\n",
       "      <td>0</td>\n",
       "      <td>1</td>\n",
       "      <td>0.0</td>\n",
       "      <td>0.0</td>\n",
       "      <td>0</td>\n",
       "      <td>Female</td>\n",
       "      <td>80 or older</td>\n",
       "      <td>White</td>\n",
       "      <td>0</td>\n",
       "      <td>1</td>\n",
       "      <td>Very good</td>\n",
       "      <td>7.0</td>\n",
       "      <td>0</td>\n",
       "      <td>0</td>\n",
       "      <td>0</td>\n",
       "    </tr>\n",
       "    <tr>\n",
       "      <th>2</th>\n",
       "      <td>2</td>\n",
       "      <td>0</td>\n",
       "      <td>26.58</td>\n",
       "      <td>1</td>\n",
       "      <td>0</td>\n",
       "      <td>0</td>\n",
       "      <td>20.0</td>\n",
       "      <td>30.0</td>\n",
       "      <td>0</td>\n",
       "      <td>Male</td>\n",
       "      <td>65-69</td>\n",
       "      <td>White</td>\n",
       "      <td>1</td>\n",
       "      <td>1</td>\n",
       "      <td>Fair</td>\n",
       "      <td>8.0</td>\n",
       "      <td>1</td>\n",
       "      <td>0</td>\n",
       "      <td>0</td>\n",
       "    </tr>\n",
       "    <tr>\n",
       "      <th>3</th>\n",
       "      <td>3</td>\n",
       "      <td>0</td>\n",
       "      <td>24.21</td>\n",
       "      <td>0</td>\n",
       "      <td>0</td>\n",
       "      <td>0</td>\n",
       "      <td>0.0</td>\n",
       "      <td>0.0</td>\n",
       "      <td>0</td>\n",
       "      <td>Female</td>\n",
       "      <td>75-79</td>\n",
       "      <td>White</td>\n",
       "      <td>0</td>\n",
       "      <td>0</td>\n",
       "      <td>Good</td>\n",
       "      <td>6.0</td>\n",
       "      <td>0</td>\n",
       "      <td>0</td>\n",
       "      <td>1</td>\n",
       "    </tr>\n",
       "    <tr>\n",
       "      <th>4</th>\n",
       "      <td>4</td>\n",
       "      <td>0</td>\n",
       "      <td>23.71</td>\n",
       "      <td>0</td>\n",
       "      <td>0</td>\n",
       "      <td>0</td>\n",
       "      <td>28.0</td>\n",
       "      <td>0.0</td>\n",
       "      <td>1</td>\n",
       "      <td>Female</td>\n",
       "      <td>40-44</td>\n",
       "      <td>White</td>\n",
       "      <td>0</td>\n",
       "      <td>1</td>\n",
       "      <td>Very good</td>\n",
       "      <td>8.0</td>\n",
       "      <td>0</td>\n",
       "      <td>0</td>\n",
       "      <td>0</td>\n",
       "    </tr>\n",
       "  </tbody>\n",
       "</table>\n",
       "</div>"
      ],
      "text/plain": [
       "   Unnamed: 0  HeartDisease    BMI  Smoking  AlcoholDrinking  Stroke  \\\n",
       "0           0             0  16.60        1                0       0   \n",
       "1           1             0  20.34        0                0       1   \n",
       "2           2             0  26.58        1                0       0   \n",
       "3           3             0  24.21        0                0       0   \n",
       "4           4             0  23.71        0                0       0   \n",
       "\n",
       "   PhysicalHealth  MentalHealth  DiffWalking     Sex  AgeCategory   Race  \\\n",
       "0             3.0          30.0            0  Female        55-59  White   \n",
       "1             0.0           0.0            0  Female  80 or older  White   \n",
       "2            20.0          30.0            0    Male        65-69  White   \n",
       "3             0.0           0.0            0  Female        75-79  White   \n",
       "4            28.0           0.0            1  Female        40-44  White   \n",
       "\n",
       "  Diabetic  PhysicalActivity  GenHealth  SleepTime  Asthma  KidneyDisease  \\\n",
       "0        1                 1  Very good        5.0       1              0   \n",
       "1        0                 1  Very good        7.0       0              0   \n",
       "2        1                 1       Fair        8.0       1              0   \n",
       "3        0                 0       Good        6.0       0              0   \n",
       "4        0                 1  Very good        8.0       0              0   \n",
       "\n",
       "   SkinCancer  \n",
       "0           1  \n",
       "1           0  \n",
       "2           0  \n",
       "3           1  \n",
       "4           0  "
      ]
     },
     "execution_count": 14,
     "metadata": {},
     "output_type": "execute_result"
    }
   ],
   "source": [
    "df.head()"
   ]
  },
  {
   "cell_type": "markdown",
   "metadata": {},
   "source": [
    "This dataset is the 2020 annual CDC survey data of 400k adults related to their health status. People were asked about the following:\n",
    "* If they have heart disease\n",
    "* Their body mass index (kg/m2)\n",
    "* If they are or were smokers\n",
    "* If they are heavy drinkers\n",
    "* If they ever had a stroke\n",
    "* Their physical and mental health during the last 30 days\n",
    "* If they have difficulties walking\n",
    "* Their sex\n",
    "* Their age\n",
    "* Their race\n",
    "* If they are diabetic\n",
    "* If they were physically active outside their job during the last 30 days\n",
    "* Their general health\n",
    "* Their average sleep time\n",
    "* If they have asthma\n",
    "* If they had cronic kidney disease\n",
    "* If they ever had skin cancer"
   ]
  },
  {
   "cell_type": "markdown",
   "metadata": {},
   "source": [
    "We will take the SleepTime category to assess its p-value. Our null hypothesis (H0) is that this data has a normal distribution, that is that it follows a Gaussian distribution, and our alternative hypothesis (H1) is that it does not. We will take an alfa of 0.05, and that means that in order to reject the null hypothesis, the p-value has to be less than 0.05. "
   ]
  },
  {
   "cell_type": "code",
   "execution_count": 15,
   "metadata": {},
   "outputs": [
    {
     "data": {
      "text/plain": [
       "NormaltestResult(statistic=68385.83651409677, pvalue=0.0)"
      ]
     },
     "execution_count": 15,
     "metadata": {},
     "output_type": "execute_result"
    }
   ],
   "source": [
    "#using d'Agostino test\n",
    "scipy.stats.normaltest(df[\"SleepTime\"])"
   ]
  },
  {
   "cell_type": "code",
   "execution_count": 9,
   "metadata": {},
   "outputs": [
    {
     "data": {
      "text/plain": [
       "(0.8802072405815125, 0.0)"
      ]
     },
     "execution_count": 9,
     "metadata": {},
     "output_type": "execute_result"
    }
   ],
   "source": [
    "#using Shapiro-Wilk test\n",
    "#since it can only use up to 5000 values, we take a random sample of it\n",
    "sleeptime = df[\"SleepTime\"].sample(n = 5000)\n",
    "scipy.stats.shapiro(sleeptime)"
   ]
  },
  {
   "cell_type": "code",
   "execution_count": 10,
   "metadata": {},
   "outputs": [
    {
     "data": {
      "text/plain": [
       "AndersonResult(statistic=10236.58167579223, critical_values=array([0.576, 0.656, 0.787, 0.918, 1.092]), significance_level=array([15. , 10. ,  5. ,  2.5,  1. ]))"
      ]
     },
     "execution_count": 10,
     "metadata": {},
     "output_type": "execute_result"
    }
   ],
   "source": [
    "#using Anderson-Darling test\n",
    "scipy.stats.anderson(df[\"SleepTime\"])"
   ]
  },
  {
   "cell_type": "code",
   "execution_count": 22,
   "metadata": {},
   "outputs": [
    {
     "data": {
      "text/plain": [
       "Text(0.5, 0, 'Sleep time in hours')"
      ]
     },
     "execution_count": 22,
     "metadata": {},
     "output_type": "execute_result"
    },
    {
     "data": {
      "image/png": "[encoded data removed]",
      "text/plain": [
       "<Figure size 576x360 with 1 Axes>"
      ]
     },
     "metadata": {
      "needs_background": "light"
     },
     "output_type": "display_data"
    }
   ],
   "source": [
    "plt.figure(figsize = (8, 5))\n",
    "sns.countplot(data = df, x = df[\"SleepTime\"])\n",
    "plt.title(\"How many hours do you sleep per day?\")\n",
    "plt.ylabel(\"Count\")\n",
    "plt.xlabel(\"Sleep time in hours\")"
   ]
  },
  {
   "cell_type": "markdown",
   "metadata": {},
   "source": [
    "All tests give us evidence to reject the null hypothesis and we can conclude that SleepTime doesn't follow a normal distribution. D'Agostino and Shapiro-Wilk tests calculated a p-value of 0.0, though that does not mean it is equal to 0, it is just a very small value and it is rounded to 0.0. Since the p-value < 0.05, we can reject the null hypothesis.\n",
    "\n",
    "The Anderson-Darling does not return a p-value, but calculates critical values, which is another aproach to keep or reject the null hypothesis. A critical value is a cut-off value, which divides the scale of the test statistic into two, the rejection zone and the non-rejection zone. If the value of test statistic falls into the rejection zone, the H0 is consequently rejected. \n",
    "\n",
    "In this case, the rejection zone for an alfa of 0.05 is > 0.787. Since our statistic is 10236.58 aproximately and it is bigger than 0.787, we can reject the null hypothesis, and it would also be rejected with an alfa of 0.01."
   ]
  },
  {
   "cell_type": "markdown",
   "metadata": {},
   "source": [
    "# Exercici 2"
   ]
  },
  {
   "cell_type": "markdown",
   "metadata": {},
   "source": [
    "Continua amb el conjunt de dades i selecciona dos altres atributs del conjunt de dades. Calcula els p-valors i digues si rebutgen la hipòtesi nul·la agafant un alfa de 5%."
   ]
  },
  {
   "cell_type": "markdown",
   "metadata": {},
   "source": [
    "We will test two variables, HeartDisease and Stroke. Our null hypothesis (H0) is that these two are related, and our alternative hypothesis (H1) is that they are independent. We will take an alfa of 0.05, and that means that in order to reject the null hypothesis, the p-value has to be less than 0.05."
   ]
  },
  {
   "cell_type": "markdown",
   "metadata": {},
   "source": [
    "In order to calculate the p-value, we first have to know whether these variables follow a normal distribution or not."
   ]
  },
  {
   "cell_type": "code",
   "execution_count": 15,
   "metadata": {},
   "outputs": [
    {
     "data": {
      "text/plain": [
       "NormaltestResult(statistic=185798.6248815971, pvalue=0.0)"
      ]
     },
     "execution_count": 15,
     "metadata": {},
     "output_type": "execute_result"
    }
   ],
   "source": [
    "#using d'Agostino test\n",
    "scipy.stats.normaltest(df[\"HeartDisease\"])"
   ]
  },
  {
   "cell_type": "code",
   "execution_count": 27,
   "metadata": {},
   "outputs": [
    {
     "data": {
      "text/plain": [
       "NormaltestResult(statistic=1185542.9120335511, pvalue=0.0)"
      ]
     },
     "execution_count": 27,
     "metadata": {},
     "output_type": "execute_result"
    }
   ],
   "source": [
    "#using d'Agostino test\n",
    "scipy.stats.normaltest(df[\"Smoking\"])"
   ]
  },
  {
   "cell_type": "code",
   "execution_count": 40,
   "metadata": {},
   "outputs": [
    {
     "data": {
      "image/png": "[encoded data removed]",
      "text/plain": [
       "<Figure size 792x288 with 2 Axes>"
      ]
     },
     "metadata": {
      "needs_background": "light"
     },
     "output_type": "display_data"
    }
   ],
   "source": [
    "fig = plt.figure(figsize = (11, 4))\n",
    "\n",
    "ax1 = fig.add_subplot(1, 2, 1)\n",
    "\n",
    "ax1.hist(df[\"HeartDisease\"], color = \"#15A2A2\")\n",
    "plt.title(\"Do you have heart disease?\")\n",
    "plt.ylabel(\"Frequency\")\n",
    "plt.xlabel(\"Heart disease(0 = No; 1 = Yes)\")\n",
    "\n",
    "ax2 = fig.add_subplot(1, 2, 2)\n",
    "\n",
    "ax2.hist(df[\"Smoking\"], color = \"#1184A7\")\n",
    "plt.title(\"Have you smoked at least 100 cigarettes in your entire life?\")\n",
    "plt.ylabel(\"Frequency\")\n",
    "plt.xlabel(\"Smoker(0 = No; 1 = Yes)\")\n",
    "\n",
    "\n",
    "plt.tight_layout()\n"
   ]
  },
  {
   "cell_type": "markdown",
   "metadata": {},
   "source": [
    "Neither variable follow a Gaussian distribution since their p-value is smaller than our alpha of 0.05. Hence we will use the Mann-Whitney U Test."
   ]
  },
  {
   "cell_type": "code",
   "execution_count": 30,
   "metadata": {},
   "outputs": [
    {
     "data": {
      "text/plain": [
       "MannwhitneyuResult(statistic=34419535850.0, pvalue=0.0)"
      ]
     },
     "execution_count": 30,
     "metadata": {},
     "output_type": "execute_result"
    }
   ],
   "source": [
    "scipy.stats.mannwhitneyu(df[\"HeartDisease\"], df[\"Smoking\"])"
   ]
  },
  {
   "cell_type": "markdown",
   "metadata": {},
   "source": [
    "This test returns a p-value of 0.0, which does not mean it is equal to 0, but it is a very small number. It is, then, smaller than our alpha of 0.05 so we can reject the null hypothesis and conclude that they don't follow the same distribution."
   ]
  },
  {
   "cell_type": "markdown",
   "metadata": {},
   "source": [
    "# Exercici 3"
   ]
  },
  {
   "cell_type": "markdown",
   "metadata": {},
   "source": [
    "Continua amb el conjunt de dades i selecciona tres atributs del conjunt de dades. Calcula el p-valor i digues si rebutja la hipòtesi nul·la agafant un alfa de 5%."
   ]
  },
  {
   "cell_type": "markdown",
   "metadata": {},
   "source": [
    "We will test the following three variables: HeartDisease, AlcoholDrinking, and Stroke. Our null hypothesis (H0) is that these are related, and our alternative hypothesis (H1) is that they are independet. "
   ]
  },
  {
   "cell_type": "code",
   "execution_count": 3,
   "metadata": {},
   "outputs": [
    {
     "data": {
      "text/plain": [
       "NormaltestResult(statistic=217748.18625880437, pvalue=0.0)"
      ]
     },
     "execution_count": 3,
     "metadata": {},
     "output_type": "execute_result"
    }
   ],
   "source": [
    "#using d'Agostino test\n",
    "scipy.stats.normaltest(df[\"AlcoholDrinking\"])"
   ]
  },
  {
   "cell_type": "code",
   "execution_count": 4,
   "metadata": {},
   "outputs": [
    {
     "data": {
      "text/plain": [
       "NormaltestResult(statistic=298875.59122883406, pvalue=0.0)"
      ]
     },
     "execution_count": 4,
     "metadata": {},
     "output_type": "execute_result"
    }
   ],
   "source": [
    "#using d'Agostino test\n",
    "scipy.stats.normaltest(df[\"Stroke\"])"
   ]
  },
  {
   "cell_type": "code",
   "execution_count": 41,
   "metadata": {},
   "outputs": [
    {
     "data": {
      "image/png": "[encoded data removed]",
      "text/plain": [
       "<Figure size 792x288 with 3 Axes>"
      ]
     },
     "metadata": {
      "needs_background": "light"
     },
     "output_type": "display_data"
    }
   ],
   "source": [
    "fig = plt.figure(figsize = (11, 4))\n",
    "\n",
    "ax1 = fig.add_subplot(1, 3, 1)\n",
    "\n",
    "ax1.hist(df[\"HeartDisease\"], color = \"#CDB4DB\")\n",
    "plt.title(\"Do you have heart disease?\")\n",
    "plt.ylabel(\"Frequency\")\n",
    "plt.xlabel(\"Heart disease(0 = No; 1 = Yes)\")\n",
    "\n",
    "ax2 = fig.add_subplot(1, 3, 2)\n",
    "\n",
    "ax2.hist(df[\"AlcoholDrinking\"], color = \"#BDE0FE\")\n",
    "plt.title(\"Do you have more than 14 drinks per week?\")\n",
    "plt.ylabel(\"Frequency\")\n",
    "plt.xlabel(\" Alcohol Drinking(0 = No; 1 = Yes)\")\n",
    "\n",
    "ax2 = fig.add_subplot(1, 3, 3)\n",
    "\n",
    "ax2.hist(df[\"Stroke\"], color = \"#A2D2FF\")\n",
    "plt.title(\"Have you ever had a stroke?\")\n",
    "plt.ylabel(\"Frequency\")\n",
    "plt.xlabel(\"Stroke(0 = No; 1 = Yes)\")\n",
    "\n",
    "plt.tight_layout()\n"
   ]
  },
  {
   "cell_type": "markdown",
   "metadata": {},
   "source": [
    "None of the three categories have a Gaussian distribution, as the p-value returned is less than 0.05. We will then use the Kruskal-Wallis H test. "
   ]
  },
  {
   "cell_type": "code",
   "execution_count": 38,
   "metadata": {},
   "outputs": [
    {
     "data": {
      "text/plain": [
       "KruskalResult(statistic=6277.374968660665, pvalue=0.0)"
      ]
     },
     "execution_count": 38,
     "metadata": {},
     "output_type": "execute_result"
    }
   ],
   "source": [
    "scipy.stats.kruskal(df[\"HeartDisease\"], df[\"AlcoholDrinking\"], df[\"Stroke\"])"
   ]
  },
  {
   "cell_type": "markdown",
   "metadata": {},
   "source": [
    "The p-value returned is less than our alpha of 0.05, a very small value that has been rounded to 0.0. We can, therefore, reject our null hypothesis and we can conclude that one or more than one variable have different distribution."
   ]
  }
 ],
 "metadata": {
  "kernelspec": {
   "display_name": "Python 3",
   "language": "python",
   "name": "python3"
  },
  "language_info": {
   "codemirror_mode": {
    "name": "ipython",
    "version": 3
   },
   "file_extension": ".py",
   "mimetype": "text/x-python",
   "name": "python",
   "nbconvert_exporter": "python",
   "pygments_lexer": "ipython3",
   "version": "3.7.6"
  }
 },
 "nbformat": 4,
 "nbformat_minor": 4
}
